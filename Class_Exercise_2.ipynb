{
 "cells": [
  {
   "cell_type": "markdown",
   "metadata": {},
   "source": [
    "# How to Create Scatterplots\n",
    "\n",
    "## Create Script File\n",
    "\n",
    "In order to create a scatterplot you will first need to open IPython. In IPython, go to 'file' then select 'new'. This creates a new empty script for your code. If you want to save your code go to 'file' and select 'save as.' When you save, save it with the extension '.py' so that when you are in your repository (folder) you can tell that it is a python script. Now your document is ready.  \n",
    "\n",
    "## Add Packages\n",
    "\n",
    "The first thing you will want to do in order to create your plot is load the apporopriate packages. numpy, plotnine, random, and pandas are packages you could use to complete the task. "
   ]
  },
  {
   "cell_type": "code",
   "execution_count": 6,
   "metadata": {
    "collapsed": true
   },
   "outputs": [],
   "source": [
    "import pandas \n",
    "import random\n",
    "import numpy\n",
    "from plotnine import *"
   ]
  },
  {
   "cell_type": "markdown",
   "metadata": {},
   "source": [
    "## Simulate Data\n",
    "\n",
    "The next thing we need is to create a random set of 20 numbers (between 0 and 50), x, and a second set of numbers, y, that are linearly related to x with a slope of 5 and an intercept of 20 with normally distirubted error. To do this, assigning variables and then looping over the variables is a good idea. We'll assign all but y and epsilon. Epsilon will be determined randomly in each step of the for loop. Y will start as an empty array and fill as the for loop loops over the equation. We then need to create a dataframe for each of these. To do so, we can assign a dictionary inside the data frame. "
   ]
  },
  {
   "cell_type": "code",
   "execution_count": 7,
   "metadata": {
    "collapsed": true
   },
   "outputs": [],
   "source": [
    "B0=20 #y intercept\n",
    "B1=5 #slope\n",
    "x=numpy.random.randint(50,size=20) #upper bound 50\n",
    "y=[] #empty array that can be filled\n",
    "for i in range(0,20):\n",
    "    epsilon=numpy.random.normal(0,5)\n",
    "    y.append(B0+B1*x[i]+numpy.random.normal(0,5)) \n",
    "df=pandas.DataFrame({'x':x,'y':y}) #add x and y to dataframe"
   ]
  },
  {
   "cell_type": "markdown",
   "metadata": {},
   "source": [
    "## Graph Data\n",
    "\n",
    "We will then want to graph the data. First we need to make our ggplot with the dataframe using x and y as the aesthetics. We then will want to add layers to add points and a line through the data. "
   ]
  },
  {
   "cell_type": "code",
   "execution_count": 8,
   "metadata": {},
   "outputs": [
    {
     "data": {
      "image/png": "[encoded data removed]",
      "text/plain": [
       "<matplotlib.figure.Figure at 0xf78a278>"
      ]
     },
     "metadata": {},
     "output_type": "display_data"
    },
    {
     "data": {
      "text/plain": [
       "<ggplot: (16029314)>"
      ]
     },
     "execution_count": 8,
     "metadata": {},
     "output_type": "execute_result"
    }
   ],
   "source": [
    "\n",
    "graph=ggplot(df,aes(x=x,y=y))+geom_point()+theme_classic()+ylab('y')+xlab('x')+ggtitle(\"Scatter Plot\")\n",
    "graph "
   ]
  }
 ],
 "metadata": {
  "kernelspec": {
   "display_name": "Python 2",
   "language": "python",
   "name": "python2"
  },
  "language_info": {
   "codemirror_mode": {
    "name": "ipython",
    "version": 2
   },
   "file_extension": ".py",
   "mimetype": "text/x-python",
   "name": "python",
   "nbconvert_exporter": "python",
   "pygments_lexer": "ipython2",
   "version": "2.7.13"
  }
 },
 "nbformat": 4,
 "nbformat_minor": 2
}
