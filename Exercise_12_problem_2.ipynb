{
 "cells": [
  {
   "cell_type": "markdown",
   "metadata": {},
   "source": [
    "# Using Regular Expressions to Match Patterns \n",
    "\n",
    "Using regular expression to match patterns is useful when you want to look for strings in a file with lots of information. For this expercise we will look at three scenarios and use regular expressions to match patterns. "
   ]
  },
  {
   "cell_type": "markdown",
   "metadata": {},
   "source": [
    "## Times \n",
    "\n",
    "This pattern will match times after noon but before midnight when reported in 24-hour or \"military\" format\n",
    "\n",
    "### First attempt\n",
    "\n",
    "This first regeular expression (\\d{1,2}\\:\\d{2}) captures times in general. It looks for 1 or 2 numerical characters, then a colon, and then 2 numerical characters. However, this does not solve the problem. "
   ]
  },
  {
   "cell_type": "code",
   "execution_count": 1,
   "metadata": {
    "scrolled": true
   },
   "outputs": [
    {
     "name": "stdout",
     "output_type": "stream",
     "text": [
      "['00:15', '01:15', '02:15', '3:15', '4:15', '05:15', '06:15', '07:15', '08:15', '09:15', '10:15', '11:15', '12:15', '13:15', '14:15', '15:15', '16:15', '17:15', '18:15', '19:15', '20:15', '21:15', '22:15', '23:15']\n"
     ]
    }
   ],
   "source": [
    "#add necessary packages\n",
    "import re\n",
    "#Simulate data\n",
    "times=['00:15','01:15','02:15','3:15','4:15','05:15','06:15','07:15','08:15','09:15','10:15','11:15','12:15','13:15','14:15','15:15','16:15','17:15','18:15','19:15','20:15','21:15','22:15','23:15']\n",
    "#Build expression\n",
    "regex=re.compile('\\d{1,2}\\:\\d{2}') #captures any time\n",
    "#filter\n",
    "print(filter(regex.match,times)) \n",
    "\n"
   ]
  },
  {
   "cell_type": "markdown",
   "metadata": {},
   "source": [
    "### Second attempt\n",
    "\n",
    "The next bit captures anything that starts with 1 or 2 and has 0-9 for the second digit. However, this still captures time before noon because it captures 10:xx and 11:xx. "
   ]
  },
  {
   "cell_type": "code",
   "execution_count": 2,
   "metadata": {},
   "outputs": [
    {
     "name": "stdout",
     "output_type": "stream",
     "text": [
      "['10:15', '11:15', '12:15', '13:15', '14:15', '15:15', '16:15', '17:15', '18:15', '19:15', '20:15', '21:15', '22:15', '23:15']\n"
     ]
    }
   ],
   "source": [
    "#add necessary packages\n",
    "import re\n",
    "#Simulate data\n",
    "times=['00:15','01:15','02:15','3:15','4:15','05:15','06:15','07:15','08:15','09:15','10:15','11:15','12:15','13:15','14:15','15:15','16:15','17:15','18:15','19:15','20:15','21:15','22:15','23:15']\n",
    "#Build expression\n",
    "regex2=re.compile('[1|2][0-9]:\\d{2}')\n",
    "#filter\n",
    "print(filter(regex2.match,times))"
   ]
  },
  {
   "cell_type": "markdown",
   "metadata": {},
   "source": [
    "### Final Regular Expression\n",
    "\n",
    "The combined used of the two regular expressions makes it so that the only digits you capture starting with a 1 are for 12:xx. Then, the print concetates the other times that you would want to capture. "
   ]
  },
  {
   "cell_type": "code",
   "execution_count": 3,
   "metadata": {},
   "outputs": [
    {
     "name": "stdout",
     "output_type": "stream",
     "text": [
      "['12:15', '13:15', '14:15', '15:15', '16:15', '17:15', '18:15', '19:15', '20:15', '21:15', '22:15', '23:15']\n"
     ]
    }
   ],
   "source": [
    "#add necessary packages\n",
    "import re\n",
    "#Simulate data\n",
    "times=['00:15','01:15','02:15','3:15','4:15','05:15','06:15','07:15','08:15','09:15','10:15','11:15','12:15','13:15','14:15','15:15','16:15','17:15','18:15','19:15','20:15','21:15','22:15','23:15']\n",
    "#Build expression(s)\n",
    "regex3=re.compile('[1][2-9]:\\d{2}')\n",
    "regex4=re.compile('[2][0-9]:\\d{2}')\n",
    "print(filter(regex3.match,times)+filter(regex4.match,times))"
   ]
  },
  {
   "cell_type": "markdown",
   "metadata": {},
   "source": [
    "## Genus/Species Names \n",
    "\n",
    "This code will match genus species names expression in the format G. species (e.g. 'F. pennsylvanica')"
   ]
  },
  {
   "cell_type": "code",
   "execution_count": 4,
   "metadata": {},
   "outputs": [
    {
     "ename": "NameError",
     "evalue": "name 'regexstring' is not defined",
     "output_type": "error",
     "traceback": [
      "\u001b[1;31m---------------------------------------------------------------------------\u001b[0m",
      "\u001b[1;31mNameError\u001b[0m                                 Traceback (most recent call last)",
      "\u001b[1;32m<ipython-input-4-b88903ae4548>\u001b[0m in \u001b[0;36m<module>\u001b[1;34m()\u001b[0m\n\u001b[0;32m      2\u001b[0m \u001b[0mnames\u001b[0m\u001b[1;33m=\u001b[0m\u001b[1;33m[\u001b[0m\u001b[1;34m'Julio'\u001b[0m\u001b[1;33m,\u001b[0m\u001b[1;34m'C. elegens'\u001b[0m\u001b[1;33m,\u001b[0m \u001b[1;34m'F. pennsylvanica'\u001b[0m\u001b[1;33m,\u001b[0m \u001b[1;34m'Horseraddish'\u001b[0m\u001b[1;33m,\u001b[0m \u001b[1;34m'H. sapien'\u001b[0m\u001b[1;33m,\u001b[0m \u001b[1;34m'G. maculatus'\u001b[0m\u001b[1;33m,\u001b[0m \u001b[1;34m'M. methanoregula'\u001b[0m\u001b[1;33m,\u001b[0m \u001b[1;34m'Rick'\u001b[0m\u001b[1;33m,\u001b[0m \u001b[1;34m'Eggs'\u001b[0m\u001b[1;33m]\u001b[0m\u001b[1;33m\u001b[0m\u001b[0m\n\u001b[0;32m      3\u001b[0m \u001b[1;31m#Build expression\u001b[0m\u001b[1;33m\u001b[0m\u001b[1;33m\u001b[0m\u001b[0m\n\u001b[1;32m----> 4\u001b[1;33m \u001b[0mregex\u001b[0m\u001b[1;33m=\u001b[0m\u001b[0mre\u001b[0m\u001b[1;33m.\u001b[0m\u001b[0mcompile\u001b[0m\u001b[1;33m(\u001b[0m\u001b[0mregexstring\u001b[0m\u001b[1;33m)\u001b[0m\u001b[1;33m\u001b[0m\u001b[0m\n\u001b[0m\u001b[0;32m      5\u001b[0m \u001b[1;31m#filter\u001b[0m\u001b[1;33m\u001b[0m\u001b[1;33m\u001b[0m\u001b[0m\n\u001b[0;32m      6\u001b[0m \u001b[1;32mprint\u001b[0m\u001b[1;33m(\u001b[0m\u001b[0mfilter\u001b[0m\u001b[1;33m(\u001b[0m\u001b[0mregex\u001b[0m\u001b[1;33m.\u001b[0m\u001b[0mmatch\u001b[0m\u001b[1;33m,\u001b[0m\u001b[0mnames\u001b[0m\u001b[1;33m)\u001b[0m\u001b[1;33m)\u001b[0m\u001b[1;33m\u001b[0m\u001b[0m\n",
      "\u001b[1;31mNameError\u001b[0m: name 'regexstring' is not defined"
     ]
    }
   ],
   "source": [
    "#Simulate data\n",
    "names=['Julio','C. elegens', 'F. pennsylvanica', 'Horseraddish', 'H. sapien', 'G. maculatus', 'M. methanoregula', 'Rick', 'Eggs']\n",
    "#Build expression\n",
    "regex=re.compile(regexstring)\n",
    "#filter\n",
    "print(filter(regex.match,names))"
   ]
  },
  {
   "cell_type": "markdown",
   "metadata": {},
   "source": [
    "## Social Security Numbers \n",
    "\n",
    "This code will match social security numbers in the proper US format (e.g 389-05-4771)"
   ]
  },
  {
   "cell_type": "code",
   "execution_count": null,
   "metadata": {
    "collapsed": true
   },
   "outputs": [],
   "source": [
    "#Simulate data\n",
    "aarp=['Time','C. elegens', 'F. pennsylvanica', 'Horseraddish', 'H. sapien', 'G. maculatus', 'M. methanoregula', 'Rick', 'Eggs']\n",
    "#Build expression\n",
    "regex=re.compile(regexstring)\n",
    "#filter\n",
    "print(filter(regex.match,names))"
   ]
  }
 ],
 "metadata": {
  "kernelspec": {
   "display_name": "Python 2",
   "language": "python",
   "name": "python2"
  },
  "language_info": {
   "codemirror_mode": {
    "name": "ipython",
    "version": 2
   },
   "file_extension": ".py",
   "mimetype": "text/x-python",
   "name": "python",
   "nbconvert_exporter": "python",
   "pygments_lexer": "ipython2",
   "version": "2.7.13"
  }
 },
 "nbformat": 4,
 "nbformat_minor": 2
}
